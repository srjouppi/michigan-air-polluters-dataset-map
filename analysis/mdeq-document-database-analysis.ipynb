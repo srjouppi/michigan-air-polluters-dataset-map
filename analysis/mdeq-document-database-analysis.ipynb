{
 "cells": [
  {
   "cell_type": "code",
   "execution_count": null,
   "id": "19802805",
   "metadata": {},
   "outputs": [],
   "source": [
    "import pandas as pd\n",
    "df = pd.read_csv(\"csv/MDEQ-SRN-all-documents.csv\")"
   ]
  },
  {
   "cell_type": "code",
   "execution_count": 3,
   "id": "7b22e23c",
   "metadata": {
    "scrolled": true
   },
   "outputs": [
    {
     "data": {
      "text/plain": [
       "SAR       7130\n",
       "FCE       3058\n",
       "VN        2493\n",
       "TEST      2341\n",
       "RVN       1709\n",
       "ASBVN      650\n",
       "ACO        215\n",
       "DCVN       182\n",
       "ENFN       170\n",
       "TEST2       60\n",
       "TEST1       47\n",
       "STIP        38\n",
       "VN2         27\n",
       "ASBVN2      26\n",
       "test        24\n",
       "AFO         16\n",
       "RASBVN      16\n",
       "SAR2        12\n",
       "VN1         11\n",
       "SAR1         9\n",
       "RVN2         6\n",
       "CJ           5\n",
       "TEST3        4\n",
       "ENFN2        4\n",
       "ACO2         4\n",
       "RVN1         4\n",
       "ENFN1        4\n",
       "VN3          3\n",
       "TEST02       3\n",
       "SAR3         2\n",
       "TEST01       2\n",
       "RVN3         2\n",
       "DJ           2\n",
       "SEM          2\n",
       "CJ2          2\n",
       "ENFN3        2\n",
       "CJ1          2\n",
       "ACO1         2\n",
       "TEST10       1\n",
       "TEST05       1\n",
       "TEST04       1\n",
       "TEST03       1\n",
       "ASBVN1       1\n",
       "FCE2         1\n",
       "FCE1         1\n",
       "LTR          1\n",
       "SAR4         1\n",
       "CJ3          1\n",
       "VN4          1\n",
       "AQD          1\n",
       "Name: doc_type, dtype: int64"
      ]
     },
     "execution_count": 3,
     "metadata": {},
     "output_type": "execute_result"
    }
   ],
   "source": [
    "# What are the most common types of documents?\n",
    "df.doc_type.value_counts()"
   ]
  },
  {
   "cell_type": "code",
   "execution_count": 11,
   "id": "c51f7084",
   "metadata": {
    "scrolled": true
   },
   "outputs": [
    {
     "data": {
      "text/html": [
       "<div>\n",
       "<style scoped>\n",
       "    .dataframe tbody tr th:only-of-type {\n",
       "        vertical-align: middle;\n",
       "    }\n",
       "\n",
       "    .dataframe tbody tr th {\n",
       "        vertical-align: top;\n",
       "    }\n",
       "\n",
       "    .dataframe thead th {\n",
       "        text-align: right;\n",
       "    }\n",
       "</style>\n",
       "<table border=\"1\" class=\"dataframe\">\n",
       "  <thead>\n",
       "    <tr style=\"text-align: right;\">\n",
       "      <th></th>\n",
       "      <th>source_id</th>\n",
       "      <th>doc_type</th>\n",
       "      <th>date</th>\n",
       "      <th>doc_url</th>\n",
       "    </tr>\n",
       "  </thead>\n",
       "  <tbody>\n",
       "    <tr>\n",
       "      <th>22</th>\n",
       "      <td>N7828</td>\n",
       "      <td>VN</td>\n",
       "      <td>20160531</td>\n",
       "      <td>https://www.deq.state.mi.us/aps/downloads/SRN/...</td>\n",
       "    </tr>\n",
       "    <tr>\n",
       "      <th>33</th>\n",
       "      <td>B8878</td>\n",
       "      <td>VN</td>\n",
       "      <td>20191219</td>\n",
       "      <td>https://www.deq.state.mi.us/aps/downloads/SRN/...</td>\n",
       "    </tr>\n",
       "    <tr>\n",
       "      <th>70</th>\n",
       "      <td>P1030</td>\n",
       "      <td>VN</td>\n",
       "      <td>20190821</td>\n",
       "      <td>https://www.deq.state.mi.us/aps/downloads/SRN/...</td>\n",
       "    </tr>\n",
       "    <tr>\n",
       "      <th>77</th>\n",
       "      <td>P1112</td>\n",
       "      <td>VN</td>\n",
       "      <td>20210810</td>\n",
       "      <td>https://www.deq.state.mi.us/aps/downloads/SRN/...</td>\n",
       "    </tr>\n",
       "    <tr>\n",
       "      <th>81</th>\n",
       "      <td>P1000</td>\n",
       "      <td>VN</td>\n",
       "      <td>20210429</td>\n",
       "      <td>https://www.deq.state.mi.us/aps/downloads/SRN/...</td>\n",
       "    </tr>\n",
       "    <tr>\n",
       "      <th>...</th>\n",
       "      <td>...</td>\n",
       "      <td>...</td>\n",
       "      <td>...</td>\n",
       "      <td>...</td>\n",
       "    </tr>\n",
       "    <tr>\n",
       "      <th>18231</th>\n",
       "      <td>N1229</td>\n",
       "      <td>VN</td>\n",
       "      <td>20211216</td>\n",
       "      <td>https://www.deq.state.mi.us/aps/downloads/SRN/...</td>\n",
       "    </tr>\n",
       "    <tr>\n",
       "      <th>18261</th>\n",
       "      <td>B1577</td>\n",
       "      <td>VN</td>\n",
       "      <td>20211217</td>\n",
       "      <td>https://www.deq.state.mi.us/aps/downloads/SRN/...</td>\n",
       "    </tr>\n",
       "    <tr>\n",
       "      <th>18264</th>\n",
       "      <td>P1219</td>\n",
       "      <td>VN</td>\n",
       "      <td>20211214</td>\n",
       "      <td>https://www.deq.state.mi.us/aps/downloads/SRN/...</td>\n",
       "    </tr>\n",
       "    <tr>\n",
       "      <th>18270</th>\n",
       "      <td>A4043</td>\n",
       "      <td>VN</td>\n",
       "      <td>20211214</td>\n",
       "      <td>https://www.deq.state.mi.us/aps/downloads/SRN/...</td>\n",
       "    </tr>\n",
       "    <tr>\n",
       "      <th>18276</th>\n",
       "      <td>N7508</td>\n",
       "      <td>VN</td>\n",
       "      <td>20220104</td>\n",
       "      <td>https://www.deq.state.mi.us/aps/downloads/SRN/...</td>\n",
       "    </tr>\n",
       "  </tbody>\n",
       "</table>\n",
       "<p>2493 rows × 4 columns</p>\n",
       "</div>"
      ],
      "text/plain": [
       "      source_id doc_type      date  \\\n",
       "22        N7828       VN  20160531   \n",
       "33        B8878       VN  20191219   \n",
       "70        P1030       VN  20190821   \n",
       "77        P1112       VN  20210810   \n",
       "81        P1000       VN  20210429   \n",
       "...         ...      ...       ...   \n",
       "18231     N1229       VN  20211216   \n",
       "18261     B1577       VN  20211217   \n",
       "18264     P1219       VN  20211214   \n",
       "18270     A4043       VN  20211214   \n",
       "18276     N7508       VN  20220104   \n",
       "\n",
       "                                                 doc_url  \n",
       "22     https://www.deq.state.mi.us/aps/downloads/SRN/...  \n",
       "33     https://www.deq.state.mi.us/aps/downloads/SRN/...  \n",
       "70     https://www.deq.state.mi.us/aps/downloads/SRN/...  \n",
       "77     https://www.deq.state.mi.us/aps/downloads/SRN/...  \n",
       "81     https://www.deq.state.mi.us/aps/downloads/SRN/...  \n",
       "...                                                  ...  \n",
       "18231  https://www.deq.state.mi.us/aps/downloads/SRN/...  \n",
       "18261  https://www.deq.state.mi.us/aps/downloads/SRN/...  \n",
       "18264  https://www.deq.state.mi.us/aps/downloads/SRN/...  \n",
       "18270  https://www.deq.state.mi.us/aps/downloads/SRN/...  \n",
       "18276  https://www.deq.state.mi.us/aps/downloads/SRN/...  \n",
       "\n",
       "[2493 rows x 4 columns]"
      ]
     },
     "execution_count": 11,
     "metadata": {},
     "output_type": "execute_result"
    }
   ],
   "source": [
    "# Let's look at violation notices\n",
    "df[df.doc_type == \"VN\"]"
   ]
  },
  {
   "cell_type": "code",
   "execution_count": 2,
   "id": "4f6a6edd",
   "metadata": {
    "scrolled": true
   },
   "outputs": [
    {
     "data": {
      "text/html": [
       "<div>\n",
       "<style scoped>\n",
       "    .dataframe tbody tr th:only-of-type {\n",
       "        vertical-align: middle;\n",
       "    }\n",
       "\n",
       "    .dataframe tbody tr th {\n",
       "        vertical-align: top;\n",
       "    }\n",
       "\n",
       "    .dataframe thead th {\n",
       "        text-align: right;\n",
       "    }\n",
       "</style>\n",
       "<table border=\"1\" class=\"dataframe\">\n",
       "  <thead>\n",
       "    <tr style=\"text-align: right;\">\n",
       "      <th></th>\n",
       "      <th>source_id</th>\n",
       "      <th>doc_type</th>\n",
       "      <th>date</th>\n",
       "      <th>doc_url</th>\n",
       "      <th>name</th>\n",
       "      <th>zip_code</th>\n",
       "      <th>county</th>\n",
       "      <th>full_address</th>\n",
       "      <th>geometry</th>\n",
       "    </tr>\n",
       "  </thead>\n",
       "  <tbody>\n",
       "    <tr>\n",
       "      <th>0</th>\n",
       "      <td>N7828</td>\n",
       "      <td>VN</td>\n",
       "      <td>2016-05-31</td>\n",
       "      <td>https://www.deq.state.mi.us/aps/downloads/SRN/...</td>\n",
       "      <td>MUSKEGON DEVELOPMENT, DOVER FACILITY</td>\n",
       "      <td>48617</td>\n",
       "      <td>OTSEGO</td>\n",
       "      <td>NE 1/4 SEC 30 T31N R2W, DOVER TWP, MI</td>\n",
       "      <td>[-84.16461629999999, 41.87079440000001]</td>\n",
       "    </tr>\n",
       "    <tr>\n",
       "      <th>1</th>\n",
       "      <td>B8878</td>\n",
       "      <td>VN</td>\n",
       "      <td>2019-12-19</td>\n",
       "      <td>https://www.deq.state.mi.us/aps/downloads/SRN/...</td>\n",
       "      <td>COOPER FOUNDRY INC.</td>\n",
       "      <td>49009</td>\n",
       "      <td>KALAMAZOO</td>\n",
       "      <td>8216 DOUGLAS AVE, KALAMAZOO, MI</td>\n",
       "      <td>[-85.6099768, 42.3796287]</td>\n",
       "    </tr>\n",
       "    <tr>\n",
       "      <th>2</th>\n",
       "      <td>P1030</td>\n",
       "      <td>VN</td>\n",
       "      <td>2019-08-21</td>\n",
       "      <td>https://www.deq.state.mi.us/aps/downloads/SRN/...</td>\n",
       "      <td>MCCOIG MATERIALS, LLC</td>\n",
       "      <td>48001</td>\n",
       "      <td>WAYNE</td>\n",
       "      <td>1441 SPRINGWELLS COURT, DETROIT, MI</td>\n",
       "      <td>[-83.10444849999999, 42.2901586]</td>\n",
       "    </tr>\n",
       "    <tr>\n",
       "      <th>3</th>\n",
       "      <td>P1112</td>\n",
       "      <td>VN</td>\n",
       "      <td>2021-08-10</td>\n",
       "      <td>https://www.deq.state.mi.us/aps/downloads/SRN/...</td>\n",
       "      <td>MAYZIE, INC. DBA PET PASSAGES</td>\n",
       "      <td>48001</td>\n",
       "      <td>OAKLAND</td>\n",
       "      <td>4577 LAPEER ROAD, ORION TWP, MI</td>\n",
       "      <td>[-83.2413538, 42.7152162]</td>\n",
       "    </tr>\n",
       "    <tr>\n",
       "      <th>4</th>\n",
       "      <td>P1000</td>\n",
       "      <td>VN</td>\n",
       "      <td>2021-04-29</td>\n",
       "      <td>https://www.deq.state.mi.us/aps/downloads/SRN/...</td>\n",
       "      <td>QUALITY ROASTING, LLC</td>\n",
       "      <td>48001</td>\n",
       "      <td>TUSCOLA</td>\n",
       "      <td>135 S. BRADLEYVILLE ROAD, REESE, MI</td>\n",
       "      <td>[-83.62141240000001, 43.4917903]</td>\n",
       "    </tr>\n",
       "    <tr>\n",
       "      <th>...</th>\n",
       "      <td>...</td>\n",
       "      <td>...</td>\n",
       "      <td>...</td>\n",
       "      <td>...</td>\n",
       "      <td>...</td>\n",
       "      <td>...</td>\n",
       "      <td>...</td>\n",
       "      <td>...</td>\n",
       "      <td>...</td>\n",
       "    </tr>\n",
       "    <tr>\n",
       "      <th>2475</th>\n",
       "      <td>U27080049</td>\n",
       "      <td>VN</td>\n",
       "      <td>2016-11-17</td>\n",
       "      <td>https://www.deq.state.mi.us/aps/downloads/SRN/...</td>\n",
       "      <td>SCOTT STANCZAK PAINTING &amp; PRESSUE CLEANING</td>\n",
       "      <td>49938</td>\n",
       "      <td>GOGEBIC</td>\n",
       "      <td>1123 N HEMLOCK, IRONWOOD, MI</td>\n",
       "      <td>[-90.1774946, 46.4650646]</td>\n",
       "    </tr>\n",
       "    <tr>\n",
       "      <th>2476</th>\n",
       "      <td>B4260</td>\n",
       "      <td>VN</td>\n",
       "      <td>2015-12-01</td>\n",
       "      <td>https://www.deq.state.mi.us/aps/downloads/SRN/...</td>\n",
       "      <td>L'ANSE WARDEN ELECTRIC COMPANY LLC</td>\n",
       "      <td>49946</td>\n",
       "      <td>BARAGA</td>\n",
       "      <td>157 S MAIN STREET, LANSE, MI</td>\n",
       "      <td>[-88.4557825, 46.7554875]</td>\n",
       "    </tr>\n",
       "    <tr>\n",
       "      <th>2477</th>\n",
       "      <td>B4260</td>\n",
       "      <td>VN</td>\n",
       "      <td>2016-02-08</td>\n",
       "      <td>https://www.deq.state.mi.us/aps/downloads/SRN/...</td>\n",
       "      <td>L'ANSE WARDEN ELECTRIC COMPANY LLC</td>\n",
       "      <td>49946</td>\n",
       "      <td>BARAGA</td>\n",
       "      <td>157 S MAIN STREET, LANSE, MI</td>\n",
       "      <td>[-88.4557825, 46.7554875]</td>\n",
       "    </tr>\n",
       "    <tr>\n",
       "      <th>2478</th>\n",
       "      <td>N6039</td>\n",
       "      <td>VN</td>\n",
       "      <td>2020-09-22</td>\n",
       "      <td>https://www.deq.state.mi.us/aps/downloads/SRN/...</td>\n",
       "      <td>K &amp; W LANDFILL INC</td>\n",
       "      <td>49953</td>\n",
       "      <td>ONTONAGON</td>\n",
       "      <td>11877 HIGHWAY M-38, ONTONAGON, MI</td>\n",
       "      <td>[-89.0980002, 46.784219]</td>\n",
       "    </tr>\n",
       "    <tr>\n",
       "      <th>2479</th>\n",
       "      <td>U66110426</td>\n",
       "      <td>VN</td>\n",
       "      <td>2016-12-19</td>\n",
       "      <td>https://www.deq.state.mi.us/aps/downloads/SRN/...</td>\n",
       "      <td>NORTHWOODS ENVIRONMENTAL INDUSTRIES, INC.</td>\n",
       "      <td>49953</td>\n",
       "      <td>ONTONAGON</td>\n",
       "      <td>34495 US HIGHWAY 45, ONTONOGAN, MI</td>\n",
       "      <td>[-87.9993574, 42.3630315]</td>\n",
       "    </tr>\n",
       "  </tbody>\n",
       "</table>\n",
       "<p>2480 rows × 9 columns</p>\n",
       "</div>"
      ],
      "text/plain": [
       "      source_id doc_type        date  \\\n",
       "0         N7828       VN  2016-05-31   \n",
       "1         B8878       VN  2019-12-19   \n",
       "2         P1030       VN  2019-08-21   \n",
       "3         P1112       VN  2021-08-10   \n",
       "4         P1000       VN  2021-04-29   \n",
       "...         ...      ...         ...   \n",
       "2475  U27080049       VN  2016-11-17   \n",
       "2476      B4260       VN  2015-12-01   \n",
       "2477      B4260       VN  2016-02-08   \n",
       "2478      N6039       VN  2020-09-22   \n",
       "2479  U66110426       VN  2016-12-19   \n",
       "\n",
       "                                                doc_url  \\\n",
       "0     https://www.deq.state.mi.us/aps/downloads/SRN/...   \n",
       "1     https://www.deq.state.mi.us/aps/downloads/SRN/...   \n",
       "2     https://www.deq.state.mi.us/aps/downloads/SRN/...   \n",
       "3     https://www.deq.state.mi.us/aps/downloads/SRN/...   \n",
       "4     https://www.deq.state.mi.us/aps/downloads/SRN/...   \n",
       "...                                                 ...   \n",
       "2475  https://www.deq.state.mi.us/aps/downloads/SRN/...   \n",
       "2476  https://www.deq.state.mi.us/aps/downloads/SRN/...   \n",
       "2477  https://www.deq.state.mi.us/aps/downloads/SRN/...   \n",
       "2478  https://www.deq.state.mi.us/aps/downloads/SRN/...   \n",
       "2479  https://www.deq.state.mi.us/aps/downloads/SRN/...   \n",
       "\n",
       "                                            name  zip_code     county  \\\n",
       "0           MUSKEGON DEVELOPMENT, DOVER FACILITY     48617     OTSEGO   \n",
       "1                            COOPER FOUNDRY INC.     49009  KALAMAZOO   \n",
       "2                          MCCOIG MATERIALS, LLC     48001      WAYNE   \n",
       "3                  MAYZIE, INC. DBA PET PASSAGES     48001    OAKLAND   \n",
       "4                          QUALITY ROASTING, LLC     48001    TUSCOLA   \n",
       "...                                          ...       ...        ...   \n",
       "2475  SCOTT STANCZAK PAINTING & PRESSUE CLEANING     49938    GOGEBIC   \n",
       "2476          L'ANSE WARDEN ELECTRIC COMPANY LLC     49946     BARAGA   \n",
       "2477          L'ANSE WARDEN ELECTRIC COMPANY LLC     49946     BARAGA   \n",
       "2478                          K & W LANDFILL INC     49953  ONTONAGON   \n",
       "2479   NORTHWOODS ENVIRONMENTAL INDUSTRIES, INC.     49953  ONTONAGON   \n",
       "\n",
       "                               full_address  \\\n",
       "0     NE 1/4 SEC 30 T31N R2W, DOVER TWP, MI   \n",
       "1           8216 DOUGLAS AVE, KALAMAZOO, MI   \n",
       "2       1441 SPRINGWELLS COURT, DETROIT, MI   \n",
       "3           4577 LAPEER ROAD, ORION TWP, MI   \n",
       "4       135 S. BRADLEYVILLE ROAD, REESE, MI   \n",
       "...                                     ...   \n",
       "2475           1123 N HEMLOCK, IRONWOOD, MI   \n",
       "2476           157 S MAIN STREET, LANSE, MI   \n",
       "2477           157 S MAIN STREET, LANSE, MI   \n",
       "2478      11877 HIGHWAY M-38, ONTONAGON, MI   \n",
       "2479     34495 US HIGHWAY 45, ONTONOGAN, MI   \n",
       "\n",
       "                                     geometry  \n",
       "0     [-84.16461629999999, 41.87079440000001]  \n",
       "1                   [-85.6099768, 42.3796287]  \n",
       "2            [-83.10444849999999, 42.2901586]  \n",
       "3                   [-83.2413538, 42.7152162]  \n",
       "4            [-83.62141240000001, 43.4917903]  \n",
       "...                                       ...  \n",
       "2475                [-90.1774946, 46.4650646]  \n",
       "2476                [-88.4557825, 46.7554875]  \n",
       "2477                [-88.4557825, 46.7554875]  \n",
       "2478                 [-89.0980002, 46.784219]  \n",
       "2479                [-87.9993574, 42.3630315]  \n",
       "\n",
       "[2480 rows x 9 columns]"
      ]
     },
     "execution_count": 2,
     "metadata": {},
     "output_type": "execute_result"
    }
   ],
   "source": [
    "vn = pd.read_csv(\"csv/MDEQ-violation-notices.csv\")\n",
    "vn"
   ]
  },
  {
   "cell_type": "code",
   "execution_count": 6,
   "id": "fd066ac5",
   "metadata": {},
   "outputs": [],
   "source": [
    "vn['date'] = pd.to_datetime(vn.date, format = \"%Y-%m-%d\", errors = 'coerce')"
   ]
  },
  {
   "cell_type": "code",
   "execution_count": 7,
   "id": "231e0bd7",
   "metadata": {
    "scrolled": true
   },
   "outputs": [
    {
     "data": {
      "text/plain": [
       "source_id               object\n",
       "doc_type                object\n",
       "date            datetime64[ns]\n",
       "doc_url                 object\n",
       "name                    object\n",
       "zip_code                 int64\n",
       "county                  object\n",
       "full_address            object\n",
       "geometry                object\n",
       "dtype: object"
      ]
     },
     "execution_count": 7,
     "metadata": {},
     "output_type": "execute_result"
    }
   ],
   "source": [
    "vn.dtypes"
   ]
  },
  {
   "cell_type": "code",
   "execution_count": 17,
   "id": "9f230936",
   "metadata": {},
   "outputs": [
    {
     "data": {
      "text/plain": [
       "<AxesSubplot:>"
      ]
     },
     "execution_count": 17,
     "metadata": {},
     "output_type": "execute_result"
    },
    {
     "data": {
      "image/png": "[encoded data removed]",
      "text/plain": [
       "<Figure size 432x288 with 1 Axes>"
      ]
     },
     "metadata": {
      "needs_background": "light"
     },
     "output_type": "display_data"
    }
   ],
   "source": [
    "# Let's look at violation notices by year\n",
    "vn.date.dt.year.value_counts().sort_index().plot(kind='bar')"
   ]
  },
  {
   "cell_type": "code",
   "execution_count": 19,
   "id": "a27cc30d",
   "metadata": {
    "scrolled": true
   },
   "outputs": [
    {
     "data": {
      "text/plain": [
       "<AxesSubplot:>"
      ]
     },
     "execution_count": 19,
     "metadata": {},
     "output_type": "execute_result"
    },
    {
     "data": {
      "image/png": "[encoded data removed]",
      "text/plain": [
       "<Figure size 432x288 with 1 Axes>"
      ]
     },
     "metadata": {
      "needs_background": "light"
     },
     "output_type": "display_data"
    }
   ],
   "source": [
    "# Let's look at violation notices by county\n",
    "vn.county.value_counts().head(10).plot(kind='bar')"
   ]
  },
  {
   "cell_type": "code",
   "execution_count": 21,
   "id": "52357b8d",
   "metadata": {
    "scrolled": true
   },
   "outputs": [
    {
     "data": {
      "text/plain": [
       "<AxesSubplot:>"
      ]
     },
     "execution_count": 21,
     "metadata": {},
     "output_type": "execute_result"
    },
    {
     "data": {
      "image/png": "[encoded data removed]",
      "text/plain": [
       "<Figure size 432x288 with 1 Axes>"
      ]
     },
     "metadata": {
      "needs_background": "light"
     },
     "output_type": "display_data"
    }
   ],
   "source": [
    "# Who has had the most violation notices?\n",
    "vn.name.value_counts().head(10).plot(kind='bar')"
   ]
  },
  {
   "cell_type": "code",
   "execution_count": 23,
   "id": "2ab3d968",
   "metadata": {
    "scrolled": true
   },
   "outputs": [
    {
     "data": {
      "text/plain": [
       "<AxesSubplot:>"
      ]
     },
     "execution_count": 23,
     "metadata": {},
     "output_type": "execute_result"
    },
    {
     "data": {
      "image/png": "[encoded data removed]",
      "text/plain": [
       "<Figure size 432x288 with 1 Axes>"
      ]
     },
     "metadata": {
      "needs_background": "light"
     },
     "output_type": "display_data"
    }
   ],
   "source": [
    "# Let's look at violation notices by zip code\n",
    "# 48211 is the former location of Detroit Renewable Power\n",
    "vn.zip_code.value_counts().head(15).plot(kind='barh')"
   ]
  },
  {
   "cell_type": "code",
   "execution_count": 29,
   "id": "b112ee1c",
   "metadata": {},
   "outputs": [
    {
     "data": {
      "text/plain": [
       "<AxesSubplot:xlabel='date'>"
      ]
     },
     "execution_count": 29,
     "metadata": {},
     "output_type": "execute_result"
    },
    {
     "data": {
      "image/png": "[encoded data removed]",
      "text/plain": [
       "<Figure size 432x288 with 1 Axes>"
      ]
     },
     "metadata": {
      "needs_background": "light"
     },
     "output_type": "display_data"
    }
   ],
   "source": [
    "# Let's look at violation notices on a monthly basis for all years\n",
    "# Peak seems to be summer of 2017\n",
    "vn.resample(\"M\", on=\"date\").size() \\\n",
    "    .plot(ylim=[0,75])"
   ]
  },
  {
   "cell_type": "code",
   "execution_count": 33,
   "id": "28cb485d",
   "metadata": {},
   "outputs": [
    {
     "data": {
      "text/plain": [
       "<AxesSubplot:>"
      ]
     },
     "execution_count": 33,
     "metadata": {},
     "output_type": "execute_result"
    },
    {
     "data": {
      "image/png": "[encoded data removed]",
      "text/plain": [
       "<Figure size 432x288 with 1 Axes>"
      ]
     },
     "metadata": {
      "needs_background": "light"
     },
     "output_type": "display_data"
    }
   ],
   "source": [
    "# Let's look at violation notices by month of the year.\n",
    "# Getting a sum of all violations by month for all years.\n",
    "# Looks like the there's a pretty significant dip around the late fall. \n",
    "# Activity slows in the winter\n",
    "vn.date.dt.month.value_counts().sort_index().plot()"
   ]
  },
  {
   "cell_type": "code",
   "execution_count": 35,
   "id": "a104a2bf",
   "metadata": {},
   "outputs": [
    {
     "data": {
      "text/plain": [
       "source_id  doc_type\n",
       "B2796      TEST        151\n",
       "A9831      TEST         99\n",
       "B2647      TEST         47\n",
       "B1477      TEST         44\n",
       "B4261      TEST         43\n",
       "                      ... \n",
       "N2726      TEST2         1\n",
       "N2712      TEST          1\n",
       "N2702      TEST          1\n",
       "N2689      TEST          1\n",
       "N5586      TEST          1\n",
       "Name: doc_type, Length: 581, dtype: int64"
      ]
     },
     "execution_count": 35,
     "metadata": {},
     "output_type": "execute_result"
    }
   ],
   "source": [
    "df[df.doc_type.str.contains(\"test\", case=False)].groupby(\"source_id\").doc_type.value_counts().sort_values(ascending=False)"
   ]
  },
  {
   "cell_type": "code",
   "execution_count": 36,
   "id": "51fb7f3a",
   "metadata": {
    "scrolled": true
   },
   "outputs": [
    {
     "data": {
      "text/html": [
       "<div>\n",
       "<style scoped>\n",
       "    .dataframe tbody tr th:only-of-type {\n",
       "        vertical-align: middle;\n",
       "    }\n",
       "\n",
       "    .dataframe tbody tr th {\n",
       "        vertical-align: top;\n",
       "    }\n",
       "\n",
       "    .dataframe thead th {\n",
       "        text-align: right;\n",
       "    }\n",
       "</style>\n",
       "<table border=\"1\" class=\"dataframe\">\n",
       "  <thead>\n",
       "    <tr style=\"text-align: right;\">\n",
       "      <th></th>\n",
       "      <th>id</th>\n",
       "      <th>name</th>\n",
       "      <th>zip_code</th>\n",
       "      <th>county</th>\n",
       "      <th>full_address</th>\n",
       "      <th>geometry</th>\n",
       "    </tr>\n",
       "  </thead>\n",
       "  <tbody>\n",
       "    <tr>\n",
       "      <th>0</th>\n",
       "      <td>A6260</td>\n",
       "      <td>ALGONAC CAST PRODUCTS INC</td>\n",
       "      <td>48001.0</td>\n",
       "      <td>SAINT CLAIR</td>\n",
       "      <td>9300 STONE ROAD, ALGONAC, MI</td>\n",
       "      <td>[-82.54572189999999, 42.6299997]</td>\n",
       "    </tr>\n",
       "    <tr>\n",
       "      <th>1</th>\n",
       "      <td>N8094</td>\n",
       "      <td>SPEEDWAY SUPERAMERICA LLC (REM SITE SSA 8702)</td>\n",
       "      <td>48001.0</td>\n",
       "      <td>SAINT CLAIR</td>\n",
       "      <td>440 POINTE TREMBLE RD, ALGONAC, MI</td>\n",
       "      <td>[-82.5371631, 42.6138238]</td>\n",
       "    </tr>\n",
       "    <tr>\n",
       "      <th>2</th>\n",
       "      <td>N6769</td>\n",
       "      <td>SUNSATION PRODUCTS INC</td>\n",
       "      <td>48001.0</td>\n",
       "      <td>SAINT CLAIR</td>\n",
       "      <td>9635 KRETZ DR, ALGONAC, MI</td>\n",
       "      <td>[-82.5700738, 42.6222489]</td>\n",
       "    </tr>\n",
       "    <tr>\n",
       "      <th>3</th>\n",
       "      <td>P1024</td>\n",
       "      <td>ALTA EQUIPMENT COMPANY</td>\n",
       "      <td>48001.0</td>\n",
       "      <td>KENT</td>\n",
       "      <td>8840 BYRON COMMERCE DRIVE, BYRON CENTER, MI</td>\n",
       "      <td>[-85.6703763, 42.80414830000001]</td>\n",
       "    </tr>\n",
       "    <tr>\n",
       "      <th>4</th>\n",
       "      <td>U741802378</td>\n",
       "      <td>FORMER RESTAURANT</td>\n",
       "      <td>48001.0</td>\n",
       "      <td>SAINT CLAIR</td>\n",
       "      <td>4219 POINTE TREMBLE ROAD, CLAY TOWNSHIP, MI</td>\n",
       "      <td>[-82.56713599999999, 42.620197]</td>\n",
       "    </tr>\n",
       "    <tr>\n",
       "      <th>...</th>\n",
       "      <td>...</td>\n",
       "      <td>...</td>\n",
       "      <td>...</td>\n",
       "      <td>...</td>\n",
       "      <td>...</td>\n",
       "      <td>...</td>\n",
       "    </tr>\n",
       "    <tr>\n",
       "      <th>5832</th>\n",
       "      <td>N1465</td>\n",
       "      <td>LL WRIGHT HIGH SCHOOL</td>\n",
       "      <td>49938.0</td>\n",
       "      <td>GOGEBIC</td>\n",
       "      <td>AYER STREET, IRONWOOD, MI</td>\n",
       "      <td>[-90.14738439999999, 46.4579818]</td>\n",
       "    </tr>\n",
       "    <tr>\n",
       "      <th>5833</th>\n",
       "      <td>P1069</td>\n",
       "      <td>ALTA EQUIPMENT COMPANY</td>\n",
       "      <td>49779.0</td>\n",
       "      <td>PRESQUE ISLE</td>\n",
       "      <td>1035 CALCITE ROAD, ROGERS CITY, MI</td>\n",
       "      <td>[-83.8075728, 45.41887500000001]</td>\n",
       "    </tr>\n",
       "    <tr>\n",
       "      <th>5834</th>\n",
       "      <td>P0067</td>\n",
       "      <td>LAURIE HAMMAR</td>\n",
       "      <td>49880.0</td>\n",
       "      <td>DELTA</td>\n",
       "      <td>15524 NORTH ROCK 38TH RD, ROCK, MI</td>\n",
       "      <td>[-87.14493639999999, 46.10608380000001]</td>\n",
       "    </tr>\n",
       "    <tr>\n",
       "      <th>5835</th>\n",
       "      <td>N1973</td>\n",
       "      <td>ABHE &amp; SOVBODA, INC.</td>\n",
       "      <td>48060.0</td>\n",
       "      <td>SAINT CLAIR</td>\n",
       "      <td>BLUE WATER BRIDGE &amp; GRATIOT, PORT HURON, MI</td>\n",
       "      <td>[-82.4243249, 43.00017649999999]</td>\n",
       "    </tr>\n",
       "    <tr>\n",
       "      <th>5836</th>\n",
       "      <td>U82060106</td>\n",
       "      <td>WAYNE COUNTY GENERAL COMPLAINT SOURCE</td>\n",
       "      <td>48150.0</td>\n",
       "      <td>WAYNE</td>\n",
       "      <td>WAYNE COUNTY GENERAL COMPLAINT SOURCE, WAYNE C...</td>\n",
       "      <td>[-83.36362679999999, 42.2678114]</td>\n",
       "    </tr>\n",
       "  </tbody>\n",
       "</table>\n",
       "<p>5837 rows × 6 columns</p>\n",
       "</div>"
      ],
      "text/plain": [
       "              id                                           name  zip_code  \\\n",
       "0          A6260                      ALGONAC CAST PRODUCTS INC   48001.0   \n",
       "1          N8094  SPEEDWAY SUPERAMERICA LLC (REM SITE SSA 8702)   48001.0   \n",
       "2          N6769                         SUNSATION PRODUCTS INC   48001.0   \n",
       "3          P1024                         ALTA EQUIPMENT COMPANY   48001.0   \n",
       "4     U741802378                              FORMER RESTAURANT   48001.0   \n",
       "...          ...                                            ...       ...   \n",
       "5832       N1465                          LL WRIGHT HIGH SCHOOL   49938.0   \n",
       "5833       P1069                         ALTA EQUIPMENT COMPANY   49779.0   \n",
       "5834       P0067                                  LAURIE HAMMAR   49880.0   \n",
       "5835       N1973                           ABHE & SOVBODA, INC.   48060.0   \n",
       "5836   U82060106          WAYNE COUNTY GENERAL COMPLAINT SOURCE   48150.0   \n",
       "\n",
       "            county                                       full_address  \\\n",
       "0      SAINT CLAIR                       9300 STONE ROAD, ALGONAC, MI   \n",
       "1      SAINT CLAIR                 440 POINTE TREMBLE RD, ALGONAC, MI   \n",
       "2      SAINT CLAIR                         9635 KRETZ DR, ALGONAC, MI   \n",
       "3             KENT        8840 BYRON COMMERCE DRIVE, BYRON CENTER, MI   \n",
       "4      SAINT CLAIR        4219 POINTE TREMBLE ROAD, CLAY TOWNSHIP, MI   \n",
       "...            ...                                                ...   \n",
       "5832       GOGEBIC                          AYER STREET, IRONWOOD, MI   \n",
       "5833  PRESQUE ISLE                 1035 CALCITE ROAD, ROGERS CITY, MI   \n",
       "5834         DELTA                 15524 NORTH ROCK 38TH RD, ROCK, MI   \n",
       "5835   SAINT CLAIR        BLUE WATER BRIDGE & GRATIOT, PORT HURON, MI   \n",
       "5836         WAYNE  WAYNE COUNTY GENERAL COMPLAINT SOURCE, WAYNE C...   \n",
       "\n",
       "                                     geometry  \n",
       "0            [-82.54572189999999, 42.6299997]  \n",
       "1                   [-82.5371631, 42.6138238]  \n",
       "2                   [-82.5700738, 42.6222489]  \n",
       "3            [-85.6703763, 42.80414830000001]  \n",
       "4             [-82.56713599999999, 42.620197]  \n",
       "...                                       ...  \n",
       "5832         [-90.14738439999999, 46.4579818]  \n",
       "5833         [-83.8075728, 45.41887500000001]  \n",
       "5834  [-87.14493639999999, 46.10608380000001]  \n",
       "5835         [-82.4243249, 43.00017649999999]  \n",
       "5836         [-83.36362679999999, 42.2678114]  \n",
       "\n",
       "[5837 rows x 6 columns]"
      ]
     },
     "execution_count": 36,
     "metadata": {},
     "output_type": "execute_result"
    }
   ],
   "source": [
    "master_list = pd.read_csv(\"csv/MDEQ-SRN-source-list-final.csv\")\n",
    "\n",
    "master_list"
   ]
  },
  {
   "cell_type": "code",
   "execution_count": 37,
   "id": "128a17b1",
   "metadata": {},
   "outputs": [],
   "source": [
    "master_doc = df.merge(master_list,left_on=\"source_id\", right_on=\"id\", how=\"left\")\n",
    "master_doc = master_doc.drop(['id'], axis=1)"
   ]
  },
  {
   "cell_type": "code",
   "execution_count": 38,
   "id": "2a1a68e1",
   "metadata": {},
   "outputs": [],
   "source": [
    "df = master_doc"
   ]
  },
  {
   "cell_type": "code",
   "execution_count": 42,
   "id": "d491d7e6",
   "metadata": {},
   "outputs": [],
   "source": [
    "df['date'] = pd.to_datetime(df.date, format = \"%Y%m%d\", errors = 'coerce')"
   ]
  },
  {
   "cell_type": "code",
   "execution_count": 43,
   "id": "cb96a461",
   "metadata": {},
   "outputs": [
    {
     "data": {
      "text/plain": [
       "<AxesSubplot:>"
      ]
     },
     "execution_count": 43,
     "metadata": {},
     "output_type": "execute_result"
    },
    {
     "data": {
      "image/png": "[encoded data removed]",
      "text/plain": [
       "<Figure size 432x288 with 1 Axes>"
      ]
     },
     "metadata": {
      "needs_background": "light"
     },
     "output_type": "display_data"
    }
   ],
   "source": [
    "# When is the MDEQ most active according to date of documents?\n",
    "# Grouping all docs by month for all years \n",
    "df.date.dt.month.value_counts().sort_index().plot()"
   ]
  },
  {
   "cell_type": "code",
   "execution_count": 45,
   "id": "6679b533",
   "metadata": {},
   "outputs": [],
   "source": [
    "# Let's look at tests\n",
    "tests = df[df.doc_type.str.contains(\"test\", case=False)]"
   ]
  },
  {
   "cell_type": "code",
   "execution_count": 46,
   "id": "52a18993",
   "metadata": {
    "scrolled": true
   },
   "outputs": [
    {
     "data": {
      "text/plain": [
       "ST. CLAIR / BELLE RIVER POWER PLANT                   167\n",
       "MARATHON PETROLEUM COMPANY LP                         107\n",
       "WISCONSIN ELECTRIC POWER COMPANY                       57\n",
       "LBWL - ECKERT STATION & REO TOWN PLANT                 49\n",
       "HOLCIM (US) INC. DBA LAFARGE ALPENA PLANT              48\n",
       "J. H. CAMPBELL PLANT                                   45\n",
       "U S STEEL GREAT LAKES WORKS                            39\n",
       "CLEVELAND-CLIFFS STEEL CORPORATION DEARBORN WORKS      37\n",
       "UPPER MICHIGAN ENERGY RESOURCES -F.D. KUESTER G.S.     28\n",
       "DTE ELECTRIC COMPANY - MONROE POWER PLANT              27\n",
       "DOW SILICONES CORPORATION                              25\n",
       "PACKAGING CORPORATION OF AMERICA - FILER CITY MILL     25\n",
       "TES FILER CITY STATION                                 24\n",
       "VERSO ESCANABA LLC                                     24\n",
       "DTE ELECTRIC COMPANY - RIVER ROUGE POWER PLANT         24\n",
       "DTE ELECTRIC COMPANY - TRENTON CHANNEL POWER PLANT     23\n",
       "LBWL, ERICKSON STATION                                 20\n",
       "DETROIT RENEWABLE POWER, LLC                           20\n",
       "UNIVERSITY OF MICHIGAN                                 19\n",
       "GLWA WATER RESOURCE RECOVERY FACILITY                  18\n",
       "Name: name, dtype: int64"
      ]
     },
     "execution_count": 46,
     "metadata": {},
     "output_type": "execute_result"
    }
   ],
   "source": [
    "# Who has had the most tests performed?\n",
    "tests.name.value_counts().sort_values(ascending=False).head(20)"
   ]
  },
  {
   "cell_type": "code",
   "execution_count": 48,
   "id": "c763ea2c",
   "metadata": {},
   "outputs": [
    {
     "data": {
      "text/plain": [
       "<AxesSubplot:>"
      ]
     },
     "execution_count": 48,
     "metadata": {},
     "output_type": "execute_result"
    },
    {
     "data": {
      "image/png": "[encoded data removed]",
      "text/plain": [
       "<Figure size 432x288 with 1 Axes>"
      ]
     },
     "metadata": {
      "needs_background": "light"
     },
     "output_type": "display_data"
    }
   ],
   "source": [
    "# When are tests done during the year?\n",
    "tests.date.dt.month.value_counts().sort_index().plot()"
   ]
  },
  {
   "cell_type": "code",
   "execution_count": 51,
   "id": "7b0e0fd4",
   "metadata": {},
   "outputs": [
    {
     "data": {
      "text/plain": [
       "<AxesSubplot:xlabel='date'>"
      ]
     },
     "execution_count": 51,
     "metadata": {},
     "output_type": "execute_result"
    },
    {
     "data": {
      "image/png": "[encoded data removed]",
      "text/plain": [
       "<Figure size 432x288 with 1 Axes>"
      ]
     },
     "metadata": {
      "needs_background": "light"
     },
     "output_type": "display_data"
    }
   ],
   "source": [
    "# Let's look at the past years\n",
    "tests.resample(\"M\", on=\"date\").size() \\\n",
    "    .plot(ylim=[0,60])"
   ]
  },
  {
   "cell_type": "code",
   "execution_count": 57,
   "id": "08df59d3",
   "metadata": {
    "scrolled": false
   },
   "outputs": [
    {
     "data": {
      "text/plain": [
       "WAYNE        833\n",
       "OAKLAND      674\n",
       "KENT         359\n",
       "MACOMB       357\n",
       "OTSEGO       164\n",
       "GENESEE      156\n",
       "OTTAWA       152\n",
       "WASHTENAW    129\n",
       "KALAMAZOO    118\n",
       "CALHOUN      117\n",
       "Name: county, dtype: int64"
      ]
     },
     "execution_count": 57,
     "metadata": {},
     "output_type": "execute_result"
    }
   ],
   "source": [
    "# Which counties have the most sources?\n",
    "master_list.county.value_counts().head(10)"
   ]
  },
  {
   "cell_type": "code",
   "execution_count": 58,
   "id": "d74e7333",
   "metadata": {
    "scrolled": true
   },
   "outputs": [
    {
     "data": {
      "text/plain": [
       "WAYNE          441\n",
       "SAINT CLAIR    257\n",
       "MARQUETTE      124\n",
       "MACOMB         113\n",
       "KENT            98\n",
       "OTTAWA          97\n",
       "WASHTENAW       73\n",
       "OAKLAND         71\n",
       "INGHAM          69\n",
       "CALHOUN         67\n",
       "MANISTEE        64\n",
       "ALPENA          63\n",
       "MIDLAND         59\n",
       "MONROE          52\n",
       "GENESEE         44\n",
       "KALAMAZOO       42\n",
       "KALKASKA        36\n",
       "BERRIEN         36\n",
       "OTSEGO          35\n",
       "HURON           34\n",
       "Name: county, dtype: int64"
      ]
     },
     "execution_count": 58,
     "metadata": {},
     "output_type": "execute_result"
    }
   ],
   "source": [
    "# Which counties have been tested the most?\n",
    "tests.county.value_counts().head(20)"
   ]
  },
  {
   "cell_type": "code",
   "execution_count": 60,
   "id": "8d8580d7",
   "metadata": {},
   "outputs": [
    {
     "data": {
      "text/html": [
       "<div>\n",
       "<style scoped>\n",
       "    .dataframe tbody tr th:only-of-type {\n",
       "        vertical-align: middle;\n",
       "    }\n",
       "\n",
       "    .dataframe tbody tr th {\n",
       "        vertical-align: top;\n",
       "    }\n",
       "\n",
       "    .dataframe thead th {\n",
       "        text-align: right;\n",
       "    }\n",
       "</style>\n",
       "<table border=\"1\" class=\"dataframe\">\n",
       "  <thead>\n",
       "    <tr style=\"text-align: right;\">\n",
       "      <th></th>\n",
       "      <th>source_id</th>\n",
       "      <th>doc_type</th>\n",
       "      <th>date</th>\n",
       "      <th>doc_url</th>\n",
       "      <th>name</th>\n",
       "      <th>zip_code</th>\n",
       "      <th>county</th>\n",
       "      <th>full_address</th>\n",
       "      <th>geometry</th>\n",
       "    </tr>\n",
       "  </thead>\n",
       "  <tbody>\n",
       "    <tr>\n",
       "      <th>8</th>\n",
       "      <td>N7833</td>\n",
       "      <td>SAR</td>\n",
       "      <td>2019-05-28</td>\n",
       "      <td>https://www.deq.state.mi.us/aps/downloads/SRN/...</td>\n",
       "      <td>MUSKEGON DEVELOPMENT, ROUND LAKE FACILITY</td>\n",
       "      <td>NaN</td>\n",
       "      <td>OTSEGO</td>\n",
       "      <td>SE 1/4 SE 1/4 SW 1/4 SEC 27, CHARLTON TWP, MI</td>\n",
       "      <td>[-84.4340843, 44.9953568]</td>\n",
       "    </tr>\n",
       "    <tr>\n",
       "      <th>9</th>\n",
       "      <td>P0195</td>\n",
       "      <td>FCE</td>\n",
       "      <td>2017-03-29</td>\n",
       "      <td>https://www.deq.state.mi.us/aps/downloads/SRN/...</td>\n",
       "      <td>MUSKEGON OPERATING COMPANY, LLC - GINGEL LAKE</td>\n",
       "      <td>48813.0</td>\n",
       "      <td>OTSEGO</td>\n",
       "      <td>NE SW SE SEC 14 T30N R2W, CHESTER TWP, MI</td>\n",
       "      <td>[-85.8690933, 43.158429]</td>\n",
       "    </tr>\n",
       "    <tr>\n",
       "      <th>10</th>\n",
       "      <td>P0195</td>\n",
       "      <td>SAR</td>\n",
       "      <td>2019-10-03</td>\n",
       "      <td>https://www.deq.state.mi.us/aps/downloads/SRN/...</td>\n",
       "      <td>MUSKEGON OPERATING COMPANY, LLC - GINGEL LAKE</td>\n",
       "      <td>48813.0</td>\n",
       "      <td>OTSEGO</td>\n",
       "      <td>NE SW SE SEC 14 T30N R2W, CHESTER TWP, MI</td>\n",
       "      <td>[-85.8690933, 43.158429]</td>\n",
       "    </tr>\n",
       "    <tr>\n",
       "      <th>11</th>\n",
       "      <td>P0195</td>\n",
       "      <td>SAR</td>\n",
       "      <td>2020-10-07</td>\n",
       "      <td>https://www.deq.state.mi.us/aps/downloads/SRN/...</td>\n",
       "      <td>MUSKEGON OPERATING COMPANY, LLC - GINGEL LAKE</td>\n",
       "      <td>48813.0</td>\n",
       "      <td>OTSEGO</td>\n",
       "      <td>NE SW SE SEC 14 T30N R2W, CHESTER TWP, MI</td>\n",
       "      <td>[-85.8690933, 43.158429]</td>\n",
       "    </tr>\n",
       "    <tr>\n",
       "      <th>12</th>\n",
       "      <td>N7813</td>\n",
       "      <td>FCE</td>\n",
       "      <td>2016-01-14</td>\n",
       "      <td>https://www.deq.state.mi.us/aps/downloads/SRN/...</td>\n",
       "      <td>RIVERSIDE - OTSEGO LAKE 12 (PART OF CHESTER 7)</td>\n",
       "      <td>49096.0</td>\n",
       "      <td>OTSEGO</td>\n",
       "      <td>SW 1/4 SEC 31 T30N R2W, CHESTER TWP, MI</td>\n",
       "      <td>[-85.8690933, 43.158429]</td>\n",
       "    </tr>\n",
       "  </tbody>\n",
       "</table>\n",
       "</div>"
      ],
      "text/plain": [
       "   source_id doc_type       date  \\\n",
       "8      N7833      SAR 2019-05-28   \n",
       "9      P0195      FCE 2017-03-29   \n",
       "10     P0195      SAR 2019-10-03   \n",
       "11     P0195      SAR 2020-10-07   \n",
       "12     N7813      FCE 2016-01-14   \n",
       "\n",
       "                                              doc_url  \\\n",
       "8   https://www.deq.state.mi.us/aps/downloads/SRN/...   \n",
       "9   https://www.deq.state.mi.us/aps/downloads/SRN/...   \n",
       "10  https://www.deq.state.mi.us/aps/downloads/SRN/...   \n",
       "11  https://www.deq.state.mi.us/aps/downloads/SRN/...   \n",
       "12  https://www.deq.state.mi.us/aps/downloads/SRN/...   \n",
       "\n",
       "                                              name  zip_code  county  \\\n",
       "8        MUSKEGON DEVELOPMENT, ROUND LAKE FACILITY       NaN  OTSEGO   \n",
       "9    MUSKEGON OPERATING COMPANY, LLC - GINGEL LAKE   48813.0  OTSEGO   \n",
       "10   MUSKEGON OPERATING COMPANY, LLC - GINGEL LAKE   48813.0  OTSEGO   \n",
       "11   MUSKEGON OPERATING COMPANY, LLC - GINGEL LAKE   48813.0  OTSEGO   \n",
       "12  RIVERSIDE - OTSEGO LAKE 12 (PART OF CHESTER 7)   49096.0  OTSEGO   \n",
       "\n",
       "                                     full_address                   geometry  \n",
       "8   SE 1/4 SE 1/4 SW 1/4 SEC 27, CHARLTON TWP, MI  [-84.4340843, 44.9953568]  \n",
       "9       NE SW SE SEC 14 T30N R2W, CHESTER TWP, MI   [-85.8690933, 43.158429]  \n",
       "10      NE SW SE SEC 14 T30N R2W, CHESTER TWP, MI   [-85.8690933, 43.158429]  \n",
       "11      NE SW SE SEC 14 T30N R2W, CHESTER TWP, MI   [-85.8690933, 43.158429]  \n",
       "12        SW 1/4 SEC 31 T30N R2W, CHESTER TWP, MI   [-85.8690933, 43.158429]  "
      ]
     },
     "execution_count": 60,
     "metadata": {},
     "output_type": "execute_result"
    }
   ],
   "source": [
    "# I notice that OTSEGO County is #5 on the list of most sources\n",
    "# But it is #19 on the list of most tests\n",
    "# Let's look closer at OTSEGO\n",
    "otsego = df[df.county == 'OTSEGO']\n",
    "otsego.head()"
   ]
  },
  {
   "cell_type": "code",
   "execution_count": 67,
   "id": "7f60a081",
   "metadata": {
    "scrolled": true
   },
   "outputs": [
    {
     "data": {
      "text/plain": [
       "DCP ANTRIM GAS LLC                                    22\n",
       "WOLVERINE POWER SUPPLY CO-OP - ALPINE POWER PLANT     14\n",
       "WOLVERINE POWER, GAYLORD GENERATING STATION           13\n",
       "RIVERSIDE ENERGY MICHIGAN, LLC - WILDERNESS CO2       13\n",
       "ANR PIPELINE CO. SOUTH CHESTER COMPRESSOR STATION     12\n",
       "ANR PIPELINE - CENTRAL CHARLTON COMPRESSOR STATION    11\n",
       "A & L IRON AND METAL INC.                             10\n",
       "DELTA OIL COMPANY - BOUGHNER                           9\n",
       "VCP MICHIGAN - ASE 6                                   9\n",
       "CORE ENERGY LLC - CHESTER 10 CO2 RECOVERY              9\n",
       "CONSUMERS ENERGY GAYLORD COMBUSTION TURBINE PLANT      8\n",
       "JORDAN DEVELOPMENT COMPANY, L.L.C. - SCHROEDER         7\n",
       "DELTA OIL COMPANY - SCHRADER                           7\n",
       "CMS GENERATION, LIVINGSTON GENERATING STATION          7\n",
       "VCP MICHIGAN - ASE 5                                   7\n",
       "DELTA OIL COMPANY - GARDNER                            6\n",
       "DELTA OIL COMPANY - AXFORD/NIMBY                       6\n",
       "VCP MICHIGAN - BAGLEY 23                               6\n",
       "LAMBDA ENERGY RESOURCES, LLC - CHARLTON 4              6\n",
       "VCP MICHIGAN - VIENNA CHARLTON                         6\n",
       "Name: name, dtype: int64"
      ]
     },
     "execution_count": 67,
     "metadata": {},
     "output_type": "execute_result"
    }
   ],
   "source": [
    "# Who operates here?\n",
    "# Looking at the top 20 most repeated names in the document database\n",
    "# Looks like oil, gas and energy companies\n",
    "otsego.name.value_counts().head(20)"
   ]
  },
  {
   "cell_type": "code",
   "execution_count": 82,
   "id": "ea6160f9",
   "metadata": {
    "scrolled": true
   },
   "outputs": [
    {
     "data": {
      "text/plain": [
       "WAYNE           442\n",
       "KENT            217\n",
       "OAKLAND         159\n",
       "MACOMB          150\n",
       "KALAMAZOO        92\n",
       "TUSCOLA          79\n",
       "BAY              67\n",
       "CALHOUN          66\n",
       "WASHTENAW        66\n",
       "SAINT CLAIR      52\n",
       "MUSKEGON         46\n",
       "OTTAWA           44\n",
       "GENESEE          42\n",
       "BERRIEN          41\n",
       "ALLEGAN          41\n",
       "BRANCH           41\n",
       "MONROE           38\n",
       "INGHAM           38\n",
       "JACKSON          37\n",
       "SAINT JOSEPH     33\n",
       "Name: county, dtype: int64"
      ]
     },
     "execution_count": 82,
     "metadata": {},
     "output_type": "execute_result"
    }
   ],
   "source": [
    "# Otsego isn't on the list of top 20 violators\n",
    "vn.county.value_counts().head(20)"
   ]
  },
  {
   "cell_type": "code",
   "execution_count": 83,
   "id": "1403a86e",
   "metadata": {},
   "outputs": [
    {
     "data": {
      "text/plain": [
       "SAR       264\n",
       "FCE       180\n",
       "TEST       35\n",
       "VN         30\n",
       "RVN        13\n",
       "ASBVN       4\n",
       "ENFN        3\n",
       "SAR2        3\n",
       "SAR1        2\n",
       "RASBVN      1\n",
       "VN2         1\n",
       "ACO         1\n",
       "Name: doc_type, dtype: int64"
      ]
     },
     "execution_count": 83,
     "metadata": {},
     "output_type": "execute_result"
    }
   ],
   "source": [
    "# Just 30 violation notices\n",
    "otsego.doc_type.value_counts()"
   ]
  },
  {
   "cell_type": "code",
   "execution_count": 86,
   "id": "a3901942",
   "metadata": {
    "scrolled": true
   },
   "outputs": [
    {
     "data": {
      "text/plain": [
       "SAR       177\n",
       "FCE        50\n",
       "TEST       44\n",
       "VN         42\n",
       "RVN        34\n",
       "ASBVN      16\n",
       "DCVN        4\n",
       "ACO         2\n",
       "STIP        1\n",
       "RASBVN      1\n",
       "ENFN        1\n",
       "Name: doc_type, dtype: int64"
      ]
     },
     "execution_count": 86,
     "metadata": {},
     "output_type": "execute_result"
    }
   ],
   "source": [
    "df[df.county == 'GENESEE'].doc_type.value_counts()"
   ]
  },
  {
   "cell_type": "code",
   "execution_count": 87,
   "id": "adfbea2a",
   "metadata": {},
   "outputs": [
    {
     "data": {
      "text/plain": [
       "SAR      205\n",
       "FCE      122\n",
       "TEST      93\n",
       "VN        44\n",
       "RVN       33\n",
       "ASBVN      5\n",
       "DCVN       3\n",
       "TEST2      3\n",
       "ACO        2\n",
       "ENFN       1\n",
       "TEST1      1\n",
       "Name: doc_type, dtype: int64"
      ]
     },
     "execution_count": 87,
     "metadata": {},
     "output_type": "execute_result"
    }
   ],
   "source": [
    "df[df.county == 'OTTAWA'].doc_type.value_counts()"
   ]
  },
  {
   "cell_type": "code",
   "execution_count": 88,
   "id": "6297d57d",
   "metadata": {},
   "outputs": [
    {
     "data": {
      "text/plain": [
       "SAR       451\n",
       "VN        151\n",
       "FCE       149\n",
       "TEST      109\n",
       "RVN       104\n",
       "DCVN       24\n",
       "ASBVN      23\n",
       "ENFN       11\n",
       "ACO        10\n",
       "TEST1       2\n",
       "CJ          2\n",
       "STIP        2\n",
       "TEST2       2\n",
       "SAR1        1\n",
       "AFO         1\n",
       "VN2         1\n",
       "ASBVN2      1\n",
       "SAR2        1\n",
       "Name: doc_type, dtype: int64"
      ]
     },
     "execution_count": 88,
     "metadata": {},
     "output_type": "execute_result"
    }
   ],
   "source": [
    "df[df.county == 'MACOMB'].doc_type.value_counts()"
   ]
  },
  {
   "cell_type": "code",
   "execution_count": 77,
   "id": "409cc3a0",
   "metadata": {},
   "outputs": [
    {
     "data": {
      "text/plain": [
       "<AxesSubplot:xlabel='date'>"
      ]
     },
     "execution_count": 77,
     "metadata": {},
     "output_type": "execute_result"
    },
    {
     "data": {
      "image/png": "[encoded data removed]",
      "text/plain": [
       "<Figure size 432x288 with 1 Axes>"
      ]
     },
     "metadata": {
      "needs_background": "light"
     },
     "output_type": "display_data"
    }
   ],
   "source": [
    "# Let's look at the testing history\n",
    "tests[tests.county == 'OTSEGO'].resample(\"M\", on=\"date\").size() \\\n",
    "    .plot(ylim=[0,8])"
   ]
  },
  {
   "cell_type": "code",
   "execution_count": 78,
   "id": "ba94cb05",
   "metadata": {},
   "outputs": [
    {
     "data": {
      "text/plain": [
       "<AxesSubplot:xlabel='date'>"
      ]
     },
     "execution_count": 78,
     "metadata": {},
     "output_type": "execute_result"
    },
    {
     "data": {
      "image/png": "[encoded data removed]",
      "text/plain": [
       "<Figure size 432x288 with 1 Axes>"
      ]
     },
     "metadata": {
      "needs_background": "light"
     },
     "output_type": "display_data"
    }
   ],
   "source": [
    "# How does OTSEGO Compare to the other top counties?\n",
    "# Genessee and Ottowa have similar number of sources. Let's look at them\n",
    "tests[tests.county == 'GENESEE'].resample(\"M\", on=\"date\").size() \\\n",
    "    .plot(ylim=[0,8])"
   ]
  },
  {
   "cell_type": "code",
   "execution_count": 81,
   "id": "1f040bc2",
   "metadata": {},
   "outputs": [
    {
     "data": {
      "text/plain": [
       "<AxesSubplot:xlabel='date'>"
      ]
     },
     "execution_count": 81,
     "metadata": {},
     "output_type": "execute_result"
    },
    {
     "data": {
      "image/png": "[encoded data removed]",
      "text/plain": [
       "<Figure size 432x288 with 1 Axes>"
      ]
     },
     "metadata": {
      "needs_background": "light"
     },
     "output_type": "display_data"
    }
   ],
   "source": [
    "tests[tests.county == 'OTTAWA'].resample(\"M\", on=\"date\").size() \\\n",
    "    .plot(ylim=[0,10])"
   ]
  },
  {
   "cell_type": "code",
   "execution_count": 89,
   "id": "8dbf7e99",
   "metadata": {},
   "outputs": [
    {
     "data": {
      "text/html": [
       "<div>\n",
       "<style scoped>\n",
       "    .dataframe tbody tr th:only-of-type {\n",
       "        vertical-align: middle;\n",
       "    }\n",
       "\n",
       "    .dataframe tbody tr th {\n",
       "        vertical-align: top;\n",
       "    }\n",
       "\n",
       "    .dataframe thead th {\n",
       "        text-align: right;\n",
       "    }\n",
       "</style>\n",
       "<table border=\"1\" class=\"dataframe\">\n",
       "  <thead>\n",
       "    <tr style=\"text-align: right;\">\n",
       "      <th></th>\n",
       "      <th>source_id</th>\n",
       "      <th>doc_type</th>\n",
       "      <th>date</th>\n",
       "      <th>doc_url</th>\n",
       "      <th>name</th>\n",
       "      <th>zip_code</th>\n",
       "      <th>county</th>\n",
       "      <th>full_address</th>\n",
       "      <th>geometry</th>\n",
       "    </tr>\n",
       "  </thead>\n",
       "  <tbody>\n",
       "    <tr>\n",
       "      <th>2044</th>\n",
       "      <td>B2796</td>\n",
       "      <td>FCE</td>\n",
       "      <td>2015-09-28</td>\n",
       "      <td>https://www.deq.state.mi.us/aps/downloads/SRN/...</td>\n",
       "      <td>ST. CLAIR / BELLE RIVER POWER PLANT</td>\n",
       "      <td>48054.0</td>\n",
       "      <td>SAINT CLAIR</td>\n",
       "      <td>4505 KING ROAD, CHINA TWP, MI</td>\n",
       "      <td>[-82.4951798, 42.7740204]</td>\n",
       "    </tr>\n",
       "    <tr>\n",
       "      <th>2045</th>\n",
       "      <td>B2796</td>\n",
       "      <td>FCE</td>\n",
       "      <td>2017-08-08</td>\n",
       "      <td>https://www.deq.state.mi.us/aps/downloads/SRN/...</td>\n",
       "      <td>ST. CLAIR / BELLE RIVER POWER PLANT</td>\n",
       "      <td>48054.0</td>\n",
       "      <td>SAINT CLAIR</td>\n",
       "      <td>4505 KING ROAD, CHINA TWP, MI</td>\n",
       "      <td>[-82.4951798, 42.7740204]</td>\n",
       "    </tr>\n",
       "    <tr>\n",
       "      <th>2046</th>\n",
       "      <td>B2796</td>\n",
       "      <td>RVN</td>\n",
       "      <td>2016-12-16</td>\n",
       "      <td>https://www.deq.state.mi.us/aps/downloads/SRN/...</td>\n",
       "      <td>ST. CLAIR / BELLE RIVER POWER PLANT</td>\n",
       "      <td>48054.0</td>\n",
       "      <td>SAINT CLAIR</td>\n",
       "      <td>4505 KING ROAD, CHINA TWP, MI</td>\n",
       "      <td>[-82.4951798, 42.7740204]</td>\n",
       "    </tr>\n",
       "    <tr>\n",
       "      <th>2047</th>\n",
       "      <td>B2796</td>\n",
       "      <td>SAR</td>\n",
       "      <td>2015-07-01</td>\n",
       "      <td>https://www.deq.state.mi.us/aps/downloads/SRN/...</td>\n",
       "      <td>ST. CLAIR / BELLE RIVER POWER PLANT</td>\n",
       "      <td>48054.0</td>\n",
       "      <td>SAINT CLAIR</td>\n",
       "      <td>4505 KING ROAD, CHINA TWP, MI</td>\n",
       "      <td>[-82.4951798, 42.7740204]</td>\n",
       "    </tr>\n",
       "    <tr>\n",
       "      <th>2048</th>\n",
       "      <td>B2796</td>\n",
       "      <td>SAR</td>\n",
       "      <td>2017-08-08</td>\n",
       "      <td>https://www.deq.state.mi.us/aps/downloads/SRN/...</td>\n",
       "      <td>ST. CLAIR / BELLE RIVER POWER PLANT</td>\n",
       "      <td>48054.0</td>\n",
       "      <td>SAINT CLAIR</td>\n",
       "      <td>4505 KING ROAD, CHINA TWP, MI</td>\n",
       "      <td>[-82.4951798, 42.7740204]</td>\n",
       "    </tr>\n",
       "    <tr>\n",
       "      <th>...</th>\n",
       "      <td>...</td>\n",
       "      <td>...</td>\n",
       "      <td>...</td>\n",
       "      <td>...</td>\n",
       "      <td>...</td>\n",
       "      <td>...</td>\n",
       "      <td>...</td>\n",
       "      <td>...</td>\n",
       "      <td>...</td>\n",
       "    </tr>\n",
       "    <tr>\n",
       "      <th>18280</th>\n",
       "      <td>B2796</td>\n",
       "      <td>test</td>\n",
       "      <td>2021-09-24</td>\n",
       "      <td>https://www.deq.state.mi.us/aps/downloads/SRN/...</td>\n",
       "      <td>ST. CLAIR / BELLE RIVER POWER PLANT</td>\n",
       "      <td>48054.0</td>\n",
       "      <td>SAINT CLAIR</td>\n",
       "      <td>4505 KING ROAD, CHINA TWP, MI</td>\n",
       "      <td>[-82.4951798, 42.7740204]</td>\n",
       "    </tr>\n",
       "    <tr>\n",
       "      <th>18289</th>\n",
       "      <td>B2796</td>\n",
       "      <td>test</td>\n",
       "      <td>2021-09-23</td>\n",
       "      <td>https://www.deq.state.mi.us/aps/downloads/SRN/...</td>\n",
       "      <td>ST. CLAIR / BELLE RIVER POWER PLANT</td>\n",
       "      <td>48054.0</td>\n",
       "      <td>SAINT CLAIR</td>\n",
       "      <td>4505 KING ROAD, CHINA TWP, MI</td>\n",
       "      <td>[-82.4951798, 42.7740204]</td>\n",
       "    </tr>\n",
       "    <tr>\n",
       "      <th>18290</th>\n",
       "      <td>B2796</td>\n",
       "      <td>test</td>\n",
       "      <td>2021-09-24</td>\n",
       "      <td>https://www.deq.state.mi.us/aps/downloads/SRN/...</td>\n",
       "      <td>ST. CLAIR / BELLE RIVER POWER PLANT</td>\n",
       "      <td>48054.0</td>\n",
       "      <td>SAINT CLAIR</td>\n",
       "      <td>4505 KING ROAD, CHINA TWP, MI</td>\n",
       "      <td>[-82.4951798, 42.7740204]</td>\n",
       "    </tr>\n",
       "    <tr>\n",
       "      <th>18291</th>\n",
       "      <td>B2796</td>\n",
       "      <td>test</td>\n",
       "      <td>2021-09-23</td>\n",
       "      <td>https://www.deq.state.mi.us/aps/downloads/SRN/...</td>\n",
       "      <td>ST. CLAIR / BELLE RIVER POWER PLANT</td>\n",
       "      <td>48054.0</td>\n",
       "      <td>SAINT CLAIR</td>\n",
       "      <td>4505 KING ROAD, CHINA TWP, MI</td>\n",
       "      <td>[-82.4951798, 42.7740204]</td>\n",
       "    </tr>\n",
       "    <tr>\n",
       "      <th>18292</th>\n",
       "      <td>B2796</td>\n",
       "      <td>test</td>\n",
       "      <td>2021-09-24</td>\n",
       "      <td>https://www.deq.state.mi.us/aps/downloads/SRN/...</td>\n",
       "      <td>ST. CLAIR / BELLE RIVER POWER PLANT</td>\n",
       "      <td>48054.0</td>\n",
       "      <td>SAINT CLAIR</td>\n",
       "      <td>4505 KING ROAD, CHINA TWP, MI</td>\n",
       "      <td>[-82.4951798, 42.7740204]</td>\n",
       "    </tr>\n",
       "  </tbody>\n",
       "</table>\n",
       "<p>175 rows × 9 columns</p>\n",
       "</div>"
      ],
      "text/plain": [
       "      source_id doc_type       date  \\\n",
       "2044      B2796      FCE 2015-09-28   \n",
       "2045      B2796      FCE 2017-08-08   \n",
       "2046      B2796      RVN 2016-12-16   \n",
       "2047      B2796      SAR 2015-07-01   \n",
       "2048      B2796      SAR 2017-08-08   \n",
       "...         ...      ...        ...   \n",
       "18280     B2796     test 2021-09-24   \n",
       "18289     B2796     test 2021-09-23   \n",
       "18290     B2796     test 2021-09-24   \n",
       "18291     B2796     test 2021-09-23   \n",
       "18292     B2796     test 2021-09-24   \n",
       "\n",
       "                                                 doc_url  \\\n",
       "2044   https://www.deq.state.mi.us/aps/downloads/SRN/...   \n",
       "2045   https://www.deq.state.mi.us/aps/downloads/SRN/...   \n",
       "2046   https://www.deq.state.mi.us/aps/downloads/SRN/...   \n",
       "2047   https://www.deq.state.mi.us/aps/downloads/SRN/...   \n",
       "2048   https://www.deq.state.mi.us/aps/downloads/SRN/...   \n",
       "...                                                  ...   \n",
       "18280  https://www.deq.state.mi.us/aps/downloads/SRN/...   \n",
       "18289  https://www.deq.state.mi.us/aps/downloads/SRN/...   \n",
       "18290  https://www.deq.state.mi.us/aps/downloads/SRN/...   \n",
       "18291  https://www.deq.state.mi.us/aps/downloads/SRN/...   \n",
       "18292  https://www.deq.state.mi.us/aps/downloads/SRN/...   \n",
       "\n",
       "                                      name  zip_code       county  \\\n",
       "2044   ST. CLAIR / BELLE RIVER POWER PLANT   48054.0  SAINT CLAIR   \n",
       "2045   ST. CLAIR / BELLE RIVER POWER PLANT   48054.0  SAINT CLAIR   \n",
       "2046   ST. CLAIR / BELLE RIVER POWER PLANT   48054.0  SAINT CLAIR   \n",
       "2047   ST. CLAIR / BELLE RIVER POWER PLANT   48054.0  SAINT CLAIR   \n",
       "2048   ST. CLAIR / BELLE RIVER POWER PLANT   48054.0  SAINT CLAIR   \n",
       "...                                    ...       ...          ...   \n",
       "18280  ST. CLAIR / BELLE RIVER POWER PLANT   48054.0  SAINT CLAIR   \n",
       "18289  ST. CLAIR / BELLE RIVER POWER PLANT   48054.0  SAINT CLAIR   \n",
       "18290  ST. CLAIR / BELLE RIVER POWER PLANT   48054.0  SAINT CLAIR   \n",
       "18291  ST. CLAIR / BELLE RIVER POWER PLANT   48054.0  SAINT CLAIR   \n",
       "18292  ST. CLAIR / BELLE RIVER POWER PLANT   48054.0  SAINT CLAIR   \n",
       "\n",
       "                        full_address                   geometry  \n",
       "2044   4505 KING ROAD, CHINA TWP, MI  [-82.4951798, 42.7740204]  \n",
       "2045   4505 KING ROAD, CHINA TWP, MI  [-82.4951798, 42.7740204]  \n",
       "2046   4505 KING ROAD, CHINA TWP, MI  [-82.4951798, 42.7740204]  \n",
       "2047   4505 KING ROAD, CHINA TWP, MI  [-82.4951798, 42.7740204]  \n",
       "2048   4505 KING ROAD, CHINA TWP, MI  [-82.4951798, 42.7740204]  \n",
       "...                              ...                        ...  \n",
       "18280  4505 KING ROAD, CHINA TWP, MI  [-82.4951798, 42.7740204]  \n",
       "18289  4505 KING ROAD, CHINA TWP, MI  [-82.4951798, 42.7740204]  \n",
       "18290  4505 KING ROAD, CHINA TWP, MI  [-82.4951798, 42.7740204]  \n",
       "18291  4505 KING ROAD, CHINA TWP, MI  [-82.4951798, 42.7740204]  \n",
       "18292  4505 KING ROAD, CHINA TWP, MI  [-82.4951798, 42.7740204]  \n",
       "\n",
       "[175 rows x 9 columns]"
      ]
     },
     "execution_count": 89,
     "metadata": {},
     "output_type": "execute_result"
    }
   ],
   "source": [
    "df[df.name == 'ST. CLAIR / BELLE RIVER POWER PLANT']"
   ]
  },
  {
   "cell_type": "code",
   "execution_count": 90,
   "id": "7cfd0ca5",
   "metadata": {},
   "outputs": [
    {
     "data": {
      "text/plain": [
       "<AxesSubplot:xlabel='date'>"
      ]
     },
     "execution_count": 90,
     "metadata": {},
     "output_type": "execute_result"
    },
    {
     "data": {
      "image/png": "[encoded data removed]",
      "text/plain": [
       "<Figure size 432x288 with 1 Axes>"
      ]
     },
     "metadata": {
      "needs_background": "light"
     },
     "output_type": "display_data"
    }
   ],
   "source": [
    "# St Clair Belle Isle River Power Plant is the most tested company\n",
    "# Let's look at it's testing and violation history\n",
    "tests[tests.name == 'ST. CLAIR / BELLE RIVER POWER PLANT'].resample(\"M\", on='date').size().plot()"
   ]
  },
  {
   "cell_type": "code",
   "execution_count": 91,
   "id": "48ee1c20",
   "metadata": {},
   "outputs": [
    {
     "data": {
      "text/plain": [
       "<AxesSubplot:xlabel='date'>"
      ]
     },
     "execution_count": 91,
     "metadata": {},
     "output_type": "execute_result"
    },
    {
     "data": {
      "image/png": "[encoded data removed]",
      "text/plain": [
       "<Figure size 432x288 with 1 Axes>"
      ]
     },
     "metadata": {
      "needs_background": "light"
     },
     "output_type": "display_data"
    }
   ],
   "source": [
    "# Just two violation notices\n",
    "vn[vn.name == 'ST. CLAIR / BELLE RIVER POWER PLANT'].resample(\"M\", on='date').size().plot()"
   ]
  },
  {
   "cell_type": "code",
   "execution_count": 93,
   "id": "daba15f2",
   "metadata": {},
   "outputs": [
    {
     "data": {
      "text/plain": [
       "TEST     151\n",
       "test       8\n",
       "TEST1      4\n",
       "TEST2      4\n",
       "SAR        3\n",
       "FCE        2\n",
       "VN         2\n",
       "RVN        1\n",
       "Name: doc_type, dtype: int64"
      ]
     },
     "execution_count": 93,
     "metadata": {},
     "output_type": "execute_result"
    }
   ],
   "source": [
    "# Double checking my numbers\n",
    "df[df.name == 'ST. CLAIR / BELLE RIVER POWER PLANT'].doc_type.value_counts()"
   ]
  },
  {
   "cell_type": "code",
   "execution_count": null,
   "id": "9a3d630b",
   "metadata": {},
   "outputs": [],
   "source": []
  }
 ],
 "metadata": {
  "kernelspec": {
   "display_name": "Python 3 (ipykernel)",
   "language": "python",
   "name": "python3"
  },
  "language_info": {
   "codemirror_mode": {
    "name": "ipython",
    "version": 3
   },
   "file_extension": ".py",
   "mimetype": "text/x-python",
   "name": "python",
   "nbconvert_exporter": "python",
   "pygments_lexer": "ipython3",
   "version": "3.9.7"
  }
 },
 "nbformat": 4,
 "nbformat_minor": 5
}

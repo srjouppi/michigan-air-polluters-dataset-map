{
 "cells": [
  {
   "cell_type": "code",
   "execution_count": null,
   "id": "53089f07",
   "metadata": {
    "scrolled": false
   },
   "outputs": [],
   "source": [
    "import requests\n",
    "import pandas as pd\n",
    "from bs4 import BeautifulSoup\n",
    "import re"
   ]
  },
  {
   "cell_type": "code",
   "execution_count": 2,
   "id": "0e9fa501",
   "metadata": {},
   "outputs": [
    {
     "data": {
      "text/html": [
       "<div>\n",
       "<style scoped>\n",
       "    .dataframe tbody tr th:only-of-type {\n",
       "        vertical-align: middle;\n",
       "    }\n",
       "\n",
       "    .dataframe tbody tr th {\n",
       "        vertical-align: top;\n",
       "    }\n",
       "\n",
       "    .dataframe thead th {\n",
       "        text-align: right;\n",
       "    }\n",
       "</style>\n",
       "<table border=\"1\" class=\"dataframe\">\n",
       "  <thead>\n",
       "    <tr style=\"text-align: right;\">\n",
       "      <th></th>\n",
       "      <th>id</th>\n",
       "      <th>name</th>\n",
       "      <th>zip_code</th>\n",
       "      <th>county</th>\n",
       "      <th>full_address</th>\n",
       "      <th>geometry</th>\n",
       "    </tr>\n",
       "  </thead>\n",
       "  <tbody>\n",
       "    <tr>\n",
       "      <th>0</th>\n",
       "      <td>A6260</td>\n",
       "      <td>ALGONAC CAST PRODUCTS INC</td>\n",
       "      <td>48001.0</td>\n",
       "      <td>SAINT CLAIR</td>\n",
       "      <td>9300 STONE ROAD, ALGONAC, MI</td>\n",
       "      <td>[-82.54572189999999, 42.6299997]</td>\n",
       "    </tr>\n",
       "    <tr>\n",
       "      <th>1</th>\n",
       "      <td>N8094</td>\n",
       "      <td>SPEEDWAY SUPERAMERICA LLC (REM SITE SSA 8702)</td>\n",
       "      <td>48001.0</td>\n",
       "      <td>SAINT CLAIR</td>\n",
       "      <td>440 POINTE TREMBLE RD, ALGONAC, MI</td>\n",
       "      <td>[-82.5371631, 42.6138238]</td>\n",
       "    </tr>\n",
       "    <tr>\n",
       "      <th>2</th>\n",
       "      <td>N6769</td>\n",
       "      <td>SUNSATION PRODUCTS INC</td>\n",
       "      <td>48001.0</td>\n",
       "      <td>SAINT CLAIR</td>\n",
       "      <td>9635 KRETZ DR, ALGONAC, MI</td>\n",
       "      <td>[-82.5700738, 42.6222489]</td>\n",
       "    </tr>\n",
       "    <tr>\n",
       "      <th>3</th>\n",
       "      <td>P1024</td>\n",
       "      <td>ALTA EQUIPMENT COMPANY</td>\n",
       "      <td>48001.0</td>\n",
       "      <td>KENT</td>\n",
       "      <td>8840 BYRON COMMERCE DRIVE, BYRON CENTER, MI</td>\n",
       "      <td>[-85.6703763, 42.80414830000001]</td>\n",
       "    </tr>\n",
       "    <tr>\n",
       "      <th>4</th>\n",
       "      <td>U741802378</td>\n",
       "      <td>FORMER RESTAURANT</td>\n",
       "      <td>48001.0</td>\n",
       "      <td>SAINT CLAIR</td>\n",
       "      <td>4219 POINTE TREMBLE ROAD, CLAY TOWNSHIP, MI</td>\n",
       "      <td>[-82.56713599999999, 42.620197]</td>\n",
       "    </tr>\n",
       "  </tbody>\n",
       "</table>\n",
       "</div>"
      ],
      "text/plain": [
       "           id                                           name  zip_code  \\\n",
       "0       A6260                      ALGONAC CAST PRODUCTS INC   48001.0   \n",
       "1       N8094  SPEEDWAY SUPERAMERICA LLC (REM SITE SSA 8702)   48001.0   \n",
       "2       N6769                         SUNSATION PRODUCTS INC   48001.0   \n",
       "3       P1024                         ALTA EQUIPMENT COMPANY   48001.0   \n",
       "4  U741802378                              FORMER RESTAURANT   48001.0   \n",
       "\n",
       "        county                                 full_address  \\\n",
       "0  SAINT CLAIR                 9300 STONE ROAD, ALGONAC, MI   \n",
       "1  SAINT CLAIR           440 POINTE TREMBLE RD, ALGONAC, MI   \n",
       "2  SAINT CLAIR                   9635 KRETZ DR, ALGONAC, MI   \n",
       "3         KENT  8840 BYRON COMMERCE DRIVE, BYRON CENTER, MI   \n",
       "4  SAINT CLAIR  4219 POINTE TREMBLE ROAD, CLAY TOWNSHIP, MI   \n",
       "\n",
       "                           geometry  \n",
       "0  [-82.54572189999999, 42.6299997]  \n",
       "1         [-82.5371631, 42.6138238]  \n",
       "2         [-82.5700738, 42.6222489]  \n",
       "3  [-85.6703763, 42.80414830000001]  \n",
       "4   [-82.56713599999999, 42.620197]  "
      ]
     },
     "execution_count": 2,
     "metadata": {},
     "output_type": "execute_result"
    }
   ],
   "source": [
    "# Reading in my directory of sources\n",
    "df = pd.read_csv(\"MDEQ-SRN-directory.csv\")\n",
    "df.head()"
   ]
  },
  {
   "cell_type": "code",
   "execution_count": 3,
   "id": "18c2493f",
   "metadata": {},
   "outputs": [
    {
     "data": {
      "text/plain": [
       "['https://www.deq.state.mi.us/aps/downloads/SRN/A6260/',\n",
       " 'https://www.deq.state.mi.us/aps/downloads/SRN/N8094/',\n",
       " 'https://www.deq.state.mi.us/aps/downloads/SRN/N6769/',\n",
       " 'https://www.deq.state.mi.us/aps/downloads/SRN/P1024/',\n",
       " 'https://www.deq.state.mi.us/aps/downloads/SRN/U741802378/']"
      ]
     },
     "execution_count": 3,
     "metadata": {},
     "output_type": "execute_result"
    }
   ],
   "source": [
    "# Get a list of the links of the directories for each source\n",
    "# By inserting the source id into the MI DEQ url\n",
    "source_links = []\n",
    "for cell in df.id:\n",
    "    url = f\"https://www.deq.state.mi.us/aps/downloads/SRN/{cell}/\"\n",
    "    source_links.append(url)\n",
    "source_links[:5]"
   ]
  },
  {
   "cell_type": "code",
   "execution_count": null,
   "id": "3bcc7065",
   "metadata": {},
   "outputs": [],
   "source": [
    "# Loop through the list of links and scrape the contents of the directories\n",
    "\n",
    "all_sources_data = []\n",
    "all_sources_extras = []\n",
    "mistakes = []\n",
    "for source in source_links:\n",
    "    raw_html = requests.get(source).content\n",
    "    doc = BeautifulSoup(raw_html, \"html.parser\")\n",
    "    links = doc.find_all('a')\n",
    "    # company_data captures data from PDF names and urls\n",
    "    company_data = []\n",
    "    # company_extras captures PDF names and urls that don't fit the regex\n",
    "    company_extras = []\n",
    "    for link in links:\n",
    "        data = {}\n",
    "        other = {}\n",
    "        if link.text != '[To Parent Directory]':\n",
    "            try:\n",
    "                # Getting the source_id\n",
    "                data['source_id'] = re.findall(r\"^\\w\\w?\\d+\",link.text)[0]\n",
    "                # Getting the document code\n",
    "                data['doc_type'] = re.findall(r\"_([A-Z]+\\d?)_\",link.text)[0]\n",
    "                # Getting the date\n",
    "                data['date'] = re.findall(r\"_(\\d{8})\", link.text)[0]\n",
    "                # Getting the URL\n",
    "                data['doc_url'] = \"https://www.deq.state.mi.us\"+link['href']\n",
    "                company_data.append(data)\n",
    "            except:\n",
    "                try:\n",
    "                    # Getting the extra document names\n",
    "                    other['doc_name'] = link.text\n",
    "                    # Getting the extra document urls\n",
    "                    other['doc_url'] = \"https://www.deq.state.mi.us\"+link['href']\n",
    "                    company_extras.append(other)\n",
    "                except:\n",
    "                    # If there are still links that don't work, save them in a list\n",
    "                    mistake = link\n",
    "                    mistakes.append(mistake)\n",
    "    all_sources_data.append(company_data)\n",
    "    # Only include the list of extras if it isn't empty\n",
    "    if len(company_extras) != 0:\n",
    "        all_sources_extras.append(company_extras)"
   ]
  },
  {
   "cell_type": "code",
   "execution_count": null,
   "id": "de16a2e0",
   "metadata": {},
   "outputs": [],
   "source": [
    "# Turning my list of lists of dicts of company data into a dataframe\n",
    "list_of_dfs = [pd.DataFrame(one_list) for one_list in all_sources_data]\n",
    "df = pd.concat(list_of_dfs, ignore_index=True)"
   ]
  },
  {
   "cell_type": "code",
   "execution_count": null,
   "id": "ec8b240b",
   "metadata": {},
   "outputs": [],
   "source": [
    "df.to_csv(\"MI_Sources_All_Documents.csv\", index=False)"
   ]
  },
  {
   "cell_type": "code",
   "execution_count": null,
   "id": "8570dd52",
   "metadata": {
    "scrolled": true
   },
   "outputs": [],
   "source": [
    "# Turning my list of lists of dicts of extra documents into a dataframe\n",
    "list_of_dfs = [pd.DataFrame(one_list) for one_list in all_sources_extras]\n",
    "df = pd.concat(list_of_dfs, ignore_index=True)\n",
    "df"
   ]
  },
  {
   "cell_type": "code",
   "execution_count": null,
   "id": "35b6788f",
   "metadata": {},
   "outputs": [],
   "source": [
    "df.to_csv(\"MI_Sources_All_Extras.csv\", index=False)"
   ]
  },
  {
   "cell_type": "code",
   "execution_count": null,
   "id": "e3bafad4",
   "metadata": {},
   "outputs": [],
   "source": []
  }
 ],
 "metadata": {
  "kernelspec": {
   "display_name": "Python 3 (ipykernel)",
   "language": "python",
   "name": "python3"
  },
  "language_info": {
   "codemirror_mode": {
    "name": "ipython",
    "version": 3
   },
   "file_extension": ".py",
   "mimetype": "text/x-python",
   "name": "python",
   "nbconvert_exporter": "python",
   "pygments_lexer": "ipython3",
   "version": "3.9.7"
  }
 },
 "nbformat": 4,
 "nbformat_minor": 5
}
